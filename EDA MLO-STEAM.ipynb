{
 "cells": [
  {
   "cell_type": "code",
   "execution_count": 1,
   "metadata": {},
   "outputs": [],
   "source": [
    "import matplotlib.pyplot as plt\n",
    "import seaborn as sns\n",
    "import pandas as pd\n",
    "import numpy as np\n",
    "import ast"
   ]
  },
  {
   "cell_type": "code",
   "execution_count": 7,
   "metadata": {},
   "outputs": [],
   "source": [
    "df = pd.read_json('nuevos_datos.json')"
   ]
  },
  {
   "cell_type": "markdown",
   "metadata": {},
   "source": [
    "Estructura y detalles del dataframe"
   ]
  },
  {
   "cell_type": "code",
   "execution_count": 8,
   "metadata": {},
   "outputs": [
    {
     "data": {
      "text/plain": [
       "(32135, 8)"
      ]
     },
     "execution_count": 8,
     "metadata": {},
     "output_type": "execute_result"
    }
   ],
   "source": [
    "df.shape"
   ]
  },
  {
   "cell_type": "code",
   "execution_count": 9,
   "metadata": {},
   "outputs": [
    {
     "name": "stdout",
     "output_type": "stream",
     "text": [
      "<class 'pandas.core.frame.DataFrame'>\n",
      "Index: 32135 entries, 0 to 32134\n",
      "Data columns (total 8 columns):\n",
      " #   Column        Non-Null Count  Dtype \n",
      "---  ------        --------------  ----- \n",
      " 0   genres        28852 non-null  object\n",
      " 1   app_name      32133 non-null  object\n",
      " 2   release_date  29783 non-null  object\n",
      " 3   specs         31465 non-null  object\n",
      " 4   price         30758 non-null  object\n",
      " 5   early_access  32135 non-null  bool  \n",
      " 6   sentiment     24953 non-null  object\n",
      " 7   metascore     2677 non-null   object\n",
      "dtypes: bool(1), object(7)\n",
      "memory usage: 2.0+ MB\n"
     ]
    }
   ],
   "source": [
    "df.info()"
   ]
  },
  {
   "cell_type": "code",
   "execution_count": 10,
   "metadata": {},
   "outputs": [
    {
     "data": {
      "text/plain": [
       "Index(['genres', 'app_name', 'release_date', 'specs', 'price', 'early_access',\n",
       "       'sentiment', 'metascore'],\n",
       "      dtype='object')"
      ]
     },
     "execution_count": 10,
     "metadata": {},
     "output_type": "execute_result"
    }
   ],
   "source": [
    "df.columns"
   ]
  },
  {
   "cell_type": "markdown",
   "metadata": {},
   "source": [
    "Valores faltantes por columna"
   ]
  },
  {
   "cell_type": "code",
   "execution_count": 11,
   "metadata": {},
   "outputs": [
    {
     "data": {
      "text/plain": [
       "genres           3283\n",
       "app_name            2\n",
       "release_date     2352\n",
       "specs             670\n",
       "price            1377\n",
       "early_access        0\n",
       "sentiment        7182\n",
       "metascore       29458\n",
       "dtype: int64"
      ]
     },
     "execution_count": 11,
     "metadata": {},
     "output_type": "execute_result"
    }
   ],
   "source": [
    "df.isna().sum() "
   ]
  },
  {
   "cell_type": "code",
   "execution_count": 12,
   "metadata": {},
   "outputs": [
    {
     "data": {
      "text/html": [
       "<div>\n",
       "<style scoped>\n",
       "    .dataframe tbody tr th:only-of-type {\n",
       "        vertical-align: middle;\n",
       "    }\n",
       "\n",
       "    .dataframe tbody tr th {\n",
       "        vertical-align: top;\n",
       "    }\n",
       "\n",
       "    .dataframe thead th {\n",
       "        text-align: right;\n",
       "    }\n",
       "</style>\n",
       "<table border=\"1\" class=\"dataframe\">\n",
       "  <thead>\n",
       "    <tr style=\"text-align: right;\">\n",
       "      <th></th>\n",
       "      <th>genres</th>\n",
       "      <th>app_name</th>\n",
       "      <th>release_date</th>\n",
       "      <th>specs</th>\n",
       "      <th>price</th>\n",
       "      <th>early_access</th>\n",
       "      <th>sentiment</th>\n",
       "      <th>metascore</th>\n",
       "    </tr>\n",
       "  </thead>\n",
       "  <tbody>\n",
       "    <tr>\n",
       "      <th>count</th>\n",
       "      <td>28852</td>\n",
       "      <td>32133</td>\n",
       "      <td>29783</td>\n",
       "      <td>31465</td>\n",
       "      <td>30758.00</td>\n",
       "      <td>32135</td>\n",
       "      <td>24953</td>\n",
       "      <td>2677</td>\n",
       "    </tr>\n",
       "    <tr>\n",
       "      <th>unique</th>\n",
       "      <td>883</td>\n",
       "      <td>32094</td>\n",
       "      <td>3457</td>\n",
       "      <td>4649</td>\n",
       "      <td>162.00</td>\n",
       "      <td>2</td>\n",
       "      <td>18</td>\n",
       "      <td>71</td>\n",
       "    </tr>\n",
       "    <tr>\n",
       "      <th>top</th>\n",
       "      <td>[Action]</td>\n",
       "      <td>Soundtrack</td>\n",
       "      <td>2012-10-16</td>\n",
       "      <td>[Single-player]</td>\n",
       "      <td>4.99</td>\n",
       "      <td>False</td>\n",
       "      <td>Mixed</td>\n",
       "      <td>80</td>\n",
       "    </tr>\n",
       "    <tr>\n",
       "      <th>freq</th>\n",
       "      <td>1880</td>\n",
       "      <td>3</td>\n",
       "      <td>100</td>\n",
       "      <td>2794</td>\n",
       "      <td>4278.00</td>\n",
       "      <td>30188</td>\n",
       "      <td>4103</td>\n",
       "      <td>125</td>\n",
       "    </tr>\n",
       "  </tbody>\n",
       "</table>\n",
       "</div>"
      ],
      "text/plain": [
       "          genres    app_name release_date            specs     price  \\\n",
       "count      28852       32133        29783            31465  30758.00   \n",
       "unique       883       32094         3457             4649    162.00   \n",
       "top     [Action]  Soundtrack   2012-10-16  [Single-player]      4.99   \n",
       "freq        1880           3          100             2794   4278.00   \n",
       "\n",
       "       early_access sentiment  metascore  \n",
       "count         32135     24953       2677  \n",
       "unique            2        18         71  \n",
       "top           False     Mixed         80  \n",
       "freq          30188      4103        125  "
      ]
     },
     "execution_count": 12,
     "metadata": {},
     "output_type": "execute_result"
    }
   ],
   "source": [
    "df.describe()"
   ]
  },
  {
   "cell_type": "markdown",
   "metadata": {},
   "source": [
    "Hacemos una copia del dataframe original para trabajar sobre el mismo"
   ]
  },
  {
   "cell_type": "code",
   "execution_count": 13,
   "metadata": {},
   "outputs": [],
   "source": [
    "df_eda = df[['genres','app_name','release_date','specs','price','early_access','sentiment', 'metascore']].copy()"
   ]
  },
  {
   "cell_type": "code",
   "execution_count": 19,
   "metadata": {},
   "outputs": [
    {
     "data": {
      "text/html": [
       "<div>\n",
       "<style scoped>\n",
       "    .dataframe tbody tr th:only-of-type {\n",
       "        vertical-align: middle;\n",
       "    }\n",
       "\n",
       "    .dataframe tbody tr th {\n",
       "        vertical-align: top;\n",
       "    }\n",
       "\n",
       "    .dataframe thead th {\n",
       "        text-align: right;\n",
       "    }\n",
       "</style>\n",
       "<table border=\"1\" class=\"dataframe\">\n",
       "  <thead>\n",
       "    <tr style=\"text-align: right;\">\n",
       "      <th></th>\n",
       "      <th>genres</th>\n",
       "      <th>app_name</th>\n",
       "      <th>release_date</th>\n",
       "      <th>specs</th>\n",
       "      <th>price</th>\n",
       "      <th>early_access</th>\n",
       "      <th>sentiment</th>\n",
       "      <th>metascore</th>\n",
       "    </tr>\n",
       "  </thead>\n",
       "  <tbody>\n",
       "    <tr>\n",
       "      <th>28</th>\n",
       "      <td>[Action]</td>\n",
       "      <td>Half-Life</td>\n",
       "      <td>1998-11-08</td>\n",
       "      <td>[Single-player, Multi-player, Valve Anti-Cheat...</td>\n",
       "      <td>9.99</td>\n",
       "      <td>False</td>\n",
       "      <td>Overwhelmingly Positive</td>\n",
       "      <td>96</td>\n",
       "    </tr>\n",
       "    <tr>\n",
       "      <th>39</th>\n",
       "      <td>[Strategy]</td>\n",
       "      <td>Disciples II: Gallean's Return</td>\n",
       "      <td>2006-07-06</td>\n",
       "      <td>[Single-player, Multi-player, Co-op]</td>\n",
       "      <td>6.99</td>\n",
       "      <td>False</td>\n",
       "      <td>Mostly Positive</td>\n",
       "      <td>84</td>\n",
       "    </tr>\n",
       "    <tr>\n",
       "      <th>40</th>\n",
       "      <td>[Strategy]</td>\n",
       "      <td>Disciples II: Rise of the Elves</td>\n",
       "      <td>2006-07-06</td>\n",
       "      <td>[Single-player, Multi-player, Co-op]</td>\n",
       "      <td>6.99</td>\n",
       "      <td>False</td>\n",
       "      <td>Very Positive</td>\n",
       "      <td>80</td>\n",
       "    </tr>\n",
       "    <tr>\n",
       "      <th>41</th>\n",
       "      <td>[Action, Indie, RPG]</td>\n",
       "      <td>The Ship: Murder Party</td>\n",
       "      <td>2006-07-11</td>\n",
       "      <td>[Single-player, Multi-player, Steam Trading Ca...</td>\n",
       "      <td>9.99</td>\n",
       "      <td>False</td>\n",
       "      <td>Very Positive</td>\n",
       "      <td>76</td>\n",
       "    </tr>\n",
       "    <tr>\n",
       "      <th>55</th>\n",
       "      <td>[Action]</td>\n",
       "      <td>Advent Rising</td>\n",
       "      <td>2005-08-09</td>\n",
       "      <td>[Single-player, Steam Trading Cards]</td>\n",
       "      <td>9.99</td>\n",
       "      <td>False</td>\n",
       "      <td>Mostly Positive</td>\n",
       "      <td>70</td>\n",
       "    </tr>\n",
       "  </tbody>\n",
       "</table>\n",
       "</div>"
      ],
      "text/plain": [
       "                  genres                         app_name release_date  \\\n",
       "28              [Action]                        Half-Life   1998-11-08   \n",
       "39            [Strategy]   Disciples II: Gallean's Return   2006-07-06   \n",
       "40            [Strategy]  Disciples II: Rise of the Elves   2006-07-06   \n",
       "41  [Action, Indie, RPG]           The Ship: Murder Party   2006-07-11   \n",
       "55              [Action]                    Advent Rising   2005-08-09   \n",
       "\n",
       "                                                specs price  early_access  \\\n",
       "28  [Single-player, Multi-player, Valve Anti-Cheat...  9.99         False   \n",
       "39               [Single-player, Multi-player, Co-op]  6.99         False   \n",
       "40               [Single-player, Multi-player, Co-op]  6.99         False   \n",
       "41  [Single-player, Multi-player, Steam Trading Ca...  9.99         False   \n",
       "55               [Single-player, Steam Trading Cards]  9.99         False   \n",
       "\n",
       "                  sentiment metascore  \n",
       "28  Overwhelmingly Positive        96  \n",
       "39          Mostly Positive        84  \n",
       "40            Very Positive        80  \n",
       "41            Very Positive        76  \n",
       "55          Mostly Positive        70  "
      ]
     },
     "execution_count": 19,
     "metadata": {},
     "output_type": "execute_result"
    }
   ],
   "source": [
    "df_eda.head()"
   ]
  },
  {
   "cell_type": "code",
   "execution_count": 15,
   "metadata": {},
   "outputs": [],
   "source": [
    "df_eda.dropna(subset=['metascore'], inplace = True)"
   ]
  },
  {
   "cell_type": "code",
   "execution_count": 18,
   "metadata": {},
   "outputs": [
    {
     "name": "stdout",
     "output_type": "stream",
     "text": [
      "<class 'pandas.core.frame.DataFrame'>\n",
      "Index: 2677 entries, 28 to 32117\n",
      "Data columns (total 8 columns):\n",
      " #   Column        Non-Null Count  Dtype \n",
      "---  ------        --------------  ----- \n",
      " 0   genres        2613 non-null   object\n",
      " 1   app_name      2677 non-null   object\n",
      " 2   release_date  2615 non-null   object\n",
      " 3   specs         2673 non-null   object\n",
      " 4   price         2651 non-null   object\n",
      " 5   early_access  2677 non-null   bool  \n",
      " 6   sentiment     2655 non-null   object\n",
      " 7   metascore     2677 non-null   object\n",
      "dtypes: bool(1), object(7)\n",
      "memory usage: 169.9+ KB\n"
     ]
    }
   ],
   "source": [
    "df_eda.info()"
   ]
  },
  {
   "cell_type": "code",
   "execution_count": 33,
   "metadata": {},
   "outputs": [
    {
     "name": "stdout",
     "output_type": "stream",
     "text": [
      "genres\n",
      "[Action]                                     301\n",
      "[Adventure, Indie]                           208\n",
      "[Strategy]                                   204\n",
      "[Action, Indie]                              180\n",
      "[Action, Adventure, Indie]                   141\n",
      "                                            ... \n",
      "[Action, Adventure, RPG, Strategy]             1\n",
      "[Casual, Free to Play, Indie, Simulation]      1\n",
      "[Free to Play, RPG, Strategy]                  1\n",
      "[Action, Indie, Racing, Sports]                1\n",
      "[Strategy, Action, Indie]                      1\n",
      "Name: count, Length: 203, dtype: int64\n"
     ]
    }
   ],
   "source": [
    "genre_frequency = df_eda['genres'].value_counts()\n",
    "print(genre_frequency)"
   ]
  },
  {
   "cell_type": "code",
   "execution_count": null,
   "metadata": {},
   "outputs": [],
   "source": [
    "# Generar un gráfico de barras\n",
    "plt.figure(figsize=(10, 6))  # Tamaño del gráfico\n",
    "genre_frequency.plot(kind='bar')  # Tipo de gráfico de barras\n",
    "plt.title('Frecuencia de Géneros de Juegos')  # Título del gráfico\n",
    "plt.xlabel('Género')  # Etiqueta del eje x\n",
    "plt.ylabel('Frecuencia')  # Etiqueta del eje y\n",
    "plt.xticks(rotation=45)  # Rotación de las etiquetas en el eje x\n",
    "plt.tight_layout()  # Ajustar el diseño del gráfico\n",
    "plt.show()  # Mostrar el gráfico"
   ]
  },
  {
   "cell_type": "code",
   "execution_count": 21,
   "metadata": {},
   "outputs": [
    {
     "data": {
      "text/plain": [
       "app_name\n",
       "Wolfenstein II: The New Colossus                  2\n",
       "Batman: Arkham City - Game of the Year Edition    2\n",
       "Altitude                                          2\n",
       "Warhammer Quest                                   2\n",
       "Half-Life                                         1\n",
       "                                                 ..\n",
       "Hyper Light Drifter                               1\n",
       "The Minims                                        1\n",
       "Anna's Quest                                      1\n",
       "Good Robot                                        1\n",
       "Counter-Strike: Condition Zero                    1\n",
       "Name: count, Length: 2673, dtype: int64"
      ]
     },
     "execution_count": 21,
     "metadata": {},
     "output_type": "execute_result"
    }
   ],
   "source": [
    "df_eda['app_name'].value_counts()"
   ]
  },
  {
   "cell_type": "code",
   "execution_count": 22,
   "metadata": {},
   "outputs": [
    {
     "data": {
      "text/plain": [
       "release_date\n",
       "2015-05-26    8\n",
       "2013-09-05    8\n",
       "2016-07-12    7\n",
       "2014-09-18    7\n",
       "2016-08-30    7\n",
       "             ..\n",
       "2016-06-15    1\n",
       "2016-06-10    1\n",
       "2016-05-30    1\n",
       "2016-05-10    1\n",
       "2004-03-01    1\n",
       "Name: count, Length: 1693, dtype: int64"
      ]
     },
     "execution_count": 22,
     "metadata": {},
     "output_type": "execute_result"
    }
   ],
   "source": [
    "df_eda['release_date'].value_counts()"
   ]
  },
  {
   "cell_type": "code",
   "execution_count": 23,
   "metadata": {},
   "outputs": [
    {
     "data": {
      "text/plain": [
       "specs\n",
       "[Single-player]                                                                                                                                                                                          345\n",
       "[Single-player, Steam Achievements, Full controller support, Steam Trading Cards, Steam Cloud]                                                                                                           151\n",
       "[Single-player, Multi-player]                                                                                                                                                                            124\n",
       "[Single-player, Steam Achievements, Steam Trading Cards, Steam Cloud]                                                                                                                                     77\n",
       "[Single-player, Steam Achievements]                                                                                                                                                                       70\n",
       "                                                                                                                                                                                                        ... \n",
       "[Single-player, Multi-player, Online Multi-Player, In-App Purchases, Steam Cloud]                                                                                                                          1\n",
       "[Single-player, Includes level editor]                                                                                                                                                                     1\n",
       "[Single-player, Online Multi-Player, Online Co-op, Cross-Platform Multiplayer, Downloadable Content, Steam Achievements, Full controller support, Steam Trading Cards, In-App Purchases, Steam Cloud]      1\n",
       "[Multi-player, MMO, Steam Achievements, Full controller support]                                                                                                                                           1\n",
       "[Online Multi-Player, Steam Achievements, Full controller support, Steam Trading Cards, Steam Cloud]                                                                                                       1\n",
       "Name: count, Length: 816, dtype: int64"
      ]
     },
     "execution_count": 23,
     "metadata": {},
     "output_type": "execute_result"
    }
   ],
   "source": [
    "df_eda['specs'].value_counts()"
   ]
  },
  {
   "cell_type": "code",
   "execution_count": 24,
   "metadata": {},
   "outputs": [
    {
     "data": {
      "text/plain": [
       "early_access\n",
       "False    2675\n",
       "True        2\n",
       "Name: count, dtype: int64"
      ]
     },
     "execution_count": 24,
     "metadata": {},
     "output_type": "execute_result"
    }
   ],
   "source": [
    "df_eda['early_access'].value_counts()"
   ]
  },
  {
   "cell_type": "code",
   "execution_count": 25,
   "metadata": {},
   "outputs": [
    {
     "data": {
      "text/plain": [
       "sentiment\n",
       "Very Positive              1153\n",
       "Mixed                       541\n",
       "Mostly Positive             511\n",
       "Overwhelmingly Positive     169\n",
       "Positive                    124\n",
       "Mostly Negative              56\n",
       "7 user reviews               13\n",
       "2 user reviews               13\n",
       "3 user reviews               10\n",
       "1 user reviews               10\n",
       "6 user reviews                9\n",
       "8 user reviews                9\n",
       "4 user reviews                9\n",
       "9 user reviews                8\n",
       "Negative                      7\n",
       "5 user reviews                6\n",
       "Very Negative                 5\n",
       "Overwhelmingly Negative       2\n",
       "Name: count, dtype: int64"
      ]
     },
     "execution_count": 25,
     "metadata": {},
     "output_type": "execute_result"
    }
   ],
   "source": [
    "df_eda['sentiment'].value_counts()"
   ]
  }
 ],
 "metadata": {
  "kernelspec": {
   "display_name": "Python 3",
   "language": "python",
   "name": "python3"
  },
  "language_info": {
   "codemirror_mode": {
    "name": "ipython",
    "version": 3
   },
   "file_extension": ".py",
   "mimetype": "text/x-python",
   "name": "python",
   "nbconvert_exporter": "python",
   "pygments_lexer": "ipython3",
   "version": "3.11.4"
  },
  "orig_nbformat": 4
 },
 "nbformat": 4,
 "nbformat_minor": 2
}
