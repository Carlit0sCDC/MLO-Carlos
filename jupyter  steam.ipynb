{
 "cells": [
  {
   "cell_type": "code",
   "execution_count": 30,
   "metadata": {},
   "outputs": [],
   "source": [
    "import pandas as pd\n",
    "import numpy as np\n",
    "from fastapi import FastAPI,  HTTPException\n",
    "import ast\n",
    "from datetime import datetime"
   ]
  },
  {
   "cell_type": "code",
   "execution_count": 12,
   "metadata": {},
   "outputs": [],
   "source": [
    "rows = []\n",
    "with open(\"steam_games.json\") as file:\n",
    "    for line in file.readlines():\n",
    "        rows.append(ast.literal_eval(line))"
   ]
  },
  {
   "cell_type": "code",
   "execution_count": 13,
   "metadata": {},
   "outputs": [],
   "source": [
    "df = pd.DataFrame(rows)"
   ]
  },
  {
   "cell_type": "code",
   "execution_count": 14,
   "metadata": {},
   "outputs": [],
   "source": [
    "df['release_date'] = pd.to_datetime(df[\"release_date\"], errors='coerce')"
   ]
  },
  {
   "cell_type": "code",
   "execution_count": 15,
   "metadata": {},
   "outputs": [],
   "source": [
    "df['release_date'] = df.release_date.dt.strftime('%Y-%m-%d')"
   ]
  },
  {
   "cell_type": "code",
   "execution_count": 16,
   "metadata": {},
   "outputs": [],
   "source": [
    "df = df.drop(['url', 'tags', 'discount_price', 'reviews_url', 'developer'], axis=1)"
   ]
  },
  {
   "cell_type": "code",
   "execution_count": 17,
   "metadata": {},
   "outputs": [],
   "source": [
    "df.to_json('nuevos_datos.json')"
   ]
  },
  {
   "cell_type": "code",
   "execution_count": 18,
   "metadata": {},
   "outputs": [],
   "source": [
    "df_limpio = pd.read_json('nuevos_datos.json')"
   ]
  },
  {
   "cell_type": "code",
   "execution_count": 19,
   "metadata": {},
   "outputs": [],
   "source": [
    "df_limpio['release_date'] = pd.to_datetime(df_limpio[\"release_date\"], errors='coerce')\n",
    "df_limpio['metascore'] = pd.to_numeric(df_limpio['metascore'], errors='coerce')"
   ]
  },
  {
   "cell_type": "code",
   "execution_count": 20,
   "metadata": {},
   "outputs": [],
   "source": [
    "app = FastAPI(title='Proyecto de Machine Learning Operations de juegos de Steam')"
   ]
  },
  {
   "cell_type": "code",
   "execution_count": 22,
   "metadata": {},
   "outputs": [],
   "source": [
    "@app.get('/genero/{anio}')\n",
    "def genero(anio):\n",
    "   # Filtrar los registros del año ingresado\n",
    "    df_anio = df_limpio[df_limpio['release_date'].dt.year == int(anio)]\n",
    "\n",
    "    # Contar la frecuencia de cada género\n",
    "    generos_contados = df_anio['genres'].explode().value_counts()\n",
    "\n",
    "    # Tomar los 5 géneros más vendidos\n",
    "    top_generos = generos_contados.head(5)\n",
    "\n",
    "    # Obtener la lista de géneros junto con su posición en la lista\n",
    "    top_generos_con_posicion = [(posicion + 1, genero) for posicion, genero in enumerate(top_generos.index)]\n",
    "\n",
    "    return top_generos_con_posicion"
   ]
  },
  {
   "cell_type": "code",
   "execution_count": 28,
   "metadata": {},
   "outputs": [
    {
     "data": {
      "text/plain": [
       "[(1, 'Indie'),\n",
       " (2, 'Action'),\n",
       " (3, 'Adventure'),\n",
       " (4, 'Casual'),\n",
       " (5, 'Simulation')]"
      ]
     },
     "execution_count": 28,
     "metadata": {},
     "output_type": "execute_result"
    }
   ],
   "source": [
    "genero(2018)"
   ]
  },
  {
   "cell_type": "code",
   "execution_count": 32,
   "metadata": {},
   "outputs": [],
   "source": [
    "@app.get('/juegos/{anio}')\n",
    "def juegos(anio):\n",
    "    try:\n",
    "        # Validar que el año sea un valor numérico válido\n",
    "        anio_entero = int(anio)\n",
    "    except ValueError:\n",
    "        raise HTTPException(status_code=400, detail='El año proporcionado no es válido.')\n",
    "\n",
    "    # Filtrar los registros del año ingresado\n",
    "    df_anio = df_limpio[df_limpio['release_date'].dt.year == anio_entero]\n",
    "\n",
    "    if df_anio.empty:\n",
    "        raise HTTPException(status_code=404, detail='No se encontraron juegos para el año proporcionado.')\n",
    "\n",
    "    # Obtener los juegos lanzados en ese año\n",
    "    juegos_lanzados = df_anio['app_name'].tolist()\n",
    "\n",
    "    return juegos_lanzados"
   ]
  },
  {
   "cell_type": "code",
   "execution_count": 34,
   "metadata": {},
   "outputs": [
    {
     "data": {
      "text/plain": [
       "['Lost Summoner Kitty',\n",
       " 'Ironbound',\n",
       " 'Battle Royale Trainer',\n",
       " 'SNOW - All Access Basic Pass',\n",
       " 'SNOW - All Access Pro Pass',\n",
       " 'SNOW - All Access Legend Pass',\n",
       " 'Race',\n",
       " 'Army of Tentacles: (Not) A Cthulhu Dating Sim: Black GOAT of the Woods Edition',\n",
       " 'Beach Rules',\n",
       " 'Planetarium 2 - Zen Odyssey',\n",
       " 'The first thrust of God',\n",
       " 'SNOW - Starter Pack',\n",
       " 'The first thrust of God - All Aircrafts',\n",
       " 'SNOW - Lifetime Pack',\n",
       " 'The Warrior Of Treasures',\n",
       " 'DinoBlaster',\n",
       " 'Robotpencil Presents: Understanding 3D for Concept',\n",
       " 'Lost Cities',\n",
       " 'Twisted Enhanced Edition',\n",
       " 'Vaporwave Simulator',\n",
       " 'Tactics Forever',\n",
       " 'Underdone - Soundtrack',\n",
       " 'Bitcoin Clicker',\n",
       " 'Darkness and a Crowd',\n",
       " 'Shotgun Legend',\n",
       " 'My Time At Portia',\n",
       " 'Watch Me Jump',\n",
       " 'Epic Cards Battle 2-Dragons Rising(TCG)',\n",
       " 'HORDE ATTACK',\n",
       " 'MagiCat Original Soundtrack',\n",
       " 'Dark Devotion',\n",
       " 'INTERSTELLAR PRIME',\n",
       " 'Reality Incognita',\n",
       " 'Island Build Masters',\n",
       " 'A Near Dawn',\n",
       " 'Fresh Body: Original Soundtrack',\n",
       " \"Devil's Land\",\n",
       " 'Nightshade Additional Scenarios',\n",
       " \"The Mind's Eclipse\",\n",
       " 'Welcome to Orochi Park',\n",
       " 'Treadnauts',\n",
       " 'Bound To Light',\n",
       " 'Regions Of Ruin',\n",
       " 'The Last Mission',\n",
       " '初颜 - The Prototype',\n",
       " 'Arctic Adventure: Episodes',\n",
       " 'Fatal Twelve',\n",
       " 'Tap Adventure: Time Travel - Promo Pack',\n",
       " 'INTRUDER - WAR AREAS',\n",
       " 'LEGRAND LEGACY: Tale of the Fatebounds',\n",
       " 'Diesel Guns',\n",
       " 'Albino Lullaby: Episode 3',\n",
       " \"Alice's Lullaby: Episode 2\",\n",
       " 'Empires Of Creation',\n",
       " 'Divinia Chronicles: Relics of Gan-Ti',\n",
       " 'Lost Moon',\n",
       " 'Starwalker',\n",
       " 'Bloodworks',\n",
       " 'Legacy of Medieval',\n",
       " 'NARK THE DRAGON',\n",
       " 'Super Bugman Extreme Ultra',\n",
       " 'Comit the Astrodian 3',\n",
       " 'Platform Golf',\n",
       " 'Witchball',\n",
       " 'Christmas Tale - Visual Novel',\n",
       " 'Mesozoica',\n",
       " 'Street Legal Racing: Redline - High Quality Cars Pack',\n",
       " 'BASIC8',\n",
       " 'Rheksetor: Waves of Fury',\n",
       " 'Prison Bomber',\n",
       " 'Cartoon Hero',\n",
       " 'SCP-087: Recovered document',\n",
       " 'Boomer Rampage',\n",
       " 'PLAYERUNKN4WN: Zombie',\n",
       " 'TileDynasty FPS Arena',\n",
       " 'Ender Story: Chapter 1',\n",
       " 'Casino Slot Machines - The Spring',\n",
       " 'BlockShip Wars: Roguelike',\n",
       " 'PearsAndGrayWitch',\n",
       " 'Infinos Gaiden',\n",
       " '忍者村大战2',\n",
       " 'High School Simulator',\n",
       " 'NeoBalls',\n",
       " 'Robotpencil Presents: Exercise: Brushwork',\n",
       " 'Robotpencil Presents: Creative Composition',\n",
       " 'Kalen Chock Presents: 2017 Free Tutorial',\n",
       " 'Agent X: Equation Rider',\n",
       " 'Snail Trek - Chapter 3: Lettuce Be',\n",
       " 'The spy who shot me™',\n",
       " 'Raining blocks',\n",
       " 'Bravium',\n",
       " 'BAE 2',\n",
       " 'Kebab it Up!',\n",
       " 'Colony On Mars',\n",
       " 'LOGistICAL: South Africa',\n",
       " 'Russian Roads']"
      ]
     },
     "execution_count": 34,
     "metadata": {},
     "output_type": "execute_result"
    }
   ],
   "source": [
    "juegos(2018)"
   ]
  },
  {
   "cell_type": "code",
   "execution_count": 35,
   "metadata": {},
   "outputs": [],
   "source": [
    "@app.get('/specs/{anio}')\n",
    "def specs(anio):\n",
    "    try:\n",
    "        # Validar que el año sea un valor numérico válido\n",
    "        anio_entero = int(anio)\n",
    "    except ValueError:\n",
    "        raise HTTPException(status_code=400, detail='El año proporcionado no es válido.')\n",
    "\n",
    "    # Filtrar los registros del año ingresado\n",
    "    df_anio = df_limpio[df_limpio['release_date'].dt.year == anio_entero]\n",
    "\n",
    "    if df_anio.empty:\n",
    "        raise HTTPException(status_code=404, detail='No se encontraron juegos para el año proporcionado.')\n",
    "\n",
    "    # Contar las especificaciones más comunes\n",
    "    specs_contados = df_anio['specs'].explode().value_counts()\n",
    "\n",
    "    # Obtener las 5 especificaciones más comunes junto con su posición\n",
    "    top_specs = specs_contados.head(5)\n",
    "    top_specs_con_posicion = [(posicion + 1, espec) for posicion, espec in enumerate(top_specs.index)]\n",
    "\n",
    "    return top_specs_con_posicion"
   ]
  },
  {
   "cell_type": "code",
   "execution_count": 39,
   "metadata": {},
   "outputs": [
    {
     "data": {
      "text/plain": [
       "[(1, 'Single-player'),\n",
       " (2, 'Multi-player'),\n",
       " (3, 'Captions available'),\n",
       " (4, 'Steam Cloud'),\n",
       " (5, 'Steam Trading Cards')]"
      ]
     },
     "execution_count": 39,
     "metadata": {},
     "output_type": "execute_result"
    }
   ],
   "source": [
    "specs(2000)"
   ]
  },
  {
   "cell_type": "code",
   "execution_count": 36,
   "metadata": {},
   "outputs": [],
   "source": [
    "@app.get('/earlyaccess/{anio}')\n",
    "def earlyaccess(anio):\n",
    "    try:\n",
    "        # Validar que el año sea un valor numérico válido\n",
    "        anio_entero = int(anio)\n",
    "    except ValueError:\n",
    "        raise HTTPException(status_code=400, detail='El año proporcionado no es válido.')\n",
    "\n",
    "    # Filtrar los registros del año ingresado y que estén en early access\n",
    "    df_anio_early_access = df_limpio[(df_limpio['release_date'].dt.year == anio_entero) & (df_limpio['early_access'] == True)]\n",
    "\n",
    "    if df_anio_early_access.empty:\n",
    "        raise HTTPException(status_code=404, detail='No se encontraron juegos en early access para el año proporcionado.')\n",
    "\n",
    "    # Obtener la cantidad de juegos en early access\n",
    "    cantidad_early_access = df_anio_early_access.shape[0]\n",
    "\n",
    "    return cantidad_early_access"
   ]
  },
  {
   "cell_type": "code",
   "execution_count": 37,
   "metadata": {},
   "outputs": [],
   "source": [
    "@app.get('/sentiment/{anio}')\n",
    "def sentiment(anio):\n",
    "    try:\n",
    "        # Validar que el año sea un valor numérico válido\n",
    "        anio_entero = int(anio)\n",
    "    except ValueError:\n",
    "        raise HTTPException(status_code=400, detail='El año proporcionado no es válido.')\n",
    "\n",
    "    # Filtrar los registros del año ingresado\n",
    "    df_anio = df_limpio[df_limpio['release_date'].dt.year == anio_entero]\n",
    "\n",
    "    if df_anio.empty:\n",
    "        raise HTTPException(status_code=404, detail='No se encontraron registros para el año proporcionado.')\n",
    "\n",
    "    # Obtener el conteo de las categorías de sentimiento\n",
    "    conteo_categorias = df_anio['sentiment'].value_counts()\n",
    "\n",
    "    return conteo_categorias.to_dict()"
   ]
  },
  {
   "cell_type": "code",
   "execution_count": 38,
   "metadata": {},
   "outputs": [],
   "source": [
    "@app.get('/metascore/{anio}')\n",
    "def metascore(anio):\n",
    "    try:\n",
    "        # Validar que el año sea un valor numérico válido\n",
    "        anio_entero = int(anio)\n",
    "    except ValueError:\n",
    "        raise HTTPException(status_code=400, detail='El año proporcionado no es válido.')\n",
    "\n",
    "    # Filtrar los registros del año ingresado\n",
    "    df_anio = df_limpio[df_limpio['release_date'].dt.year == anio_entero]\n",
    "\n",
    "    if df_anio.empty:\n",
    "        raise HTTPException(status_code=404, detail='No se encontraron registros para el año proporcionado.')\n",
    "\n",
    "    # Ordenar los juegos por su puntaje (metascore) en orden descendente\n",
    "    df_ordenado = df_anio.sort_values(by='metascore', ascending=False)\n",
    "\n",
    "    # Tomar los 5 juegos con mayor puntaje\n",
    "    top_5_juegos = df_ordenado.head(5)\n",
    "\n",
    "    return top_5_juegos[['app_name', 'metascore']].to_dict(orient='records')"
   ]
  }
 ],
 "metadata": {
  "kernelspec": {
   "display_name": "Python 3",
   "language": "python",
   "name": "python3"
  },
  "language_info": {
   "codemirror_mode": {
    "name": "ipython",
    "version": 3
   },
   "file_extension": ".py",
   "mimetype": "text/x-python",
   "name": "python",
   "nbconvert_exporter": "python",
   "pygments_lexer": "ipython3",
   "version": "3.11.4"
  },
  "orig_nbformat": 4
 },
 "nbformat": 4,
 "nbformat_minor": 2
}
