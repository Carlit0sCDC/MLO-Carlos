{
 "cells": [
  {
   "cell_type": "code",
   "execution_count": 1,
   "metadata": {},
   "outputs": [],
   "source": [
    "import pandas as pd\n",
    "from sklearn.tree import DecisionTreeRegressor\n",
    "from sklearn.preprocessing import LabelEncoder\n",
    "import joblib\n",
    "from sklearn.model_selection import train_test_split\n",
    "\n",
    "# Cargo la data del dataframe que usamos para entrenar el modelo\n",
    "df_final = pd.read_csv('df_modelo.csv')\n",
    "\n",
    "\n",
    "# Entreno el modelo\n",
    "feature_cols = [\"early_access\",\"genres_encoded\",\"metascore\",\"año\"]\n",
    "X = df_final[feature_cols]\n",
    "y = df_final[\"price\"]\n",
    "\n",
    "X_train, X_test, y_train, y_test = train_test_split(X, y, test_size=0.20, random_state=42)\n",
    "\n",
    "tree_model = DecisionTreeRegressor(max_depth=30, min_samples_leaf=1, min_samples_split=2)\n",
    "\n",
    "tree_model.fit(X_train, y_train)\n",
    "\n",
    "y_train_pred = tree_model.predict(X_train)\n",
    "y_test_pred = tree_model.predict(X_test)"
   ]
  },
  {
   "cell_type": "code",
   "execution_count": 2,
   "metadata": {},
   "outputs": [
    {
     "name": "stdout",
     "output_type": "stream",
     "text": [
      "El coeficiente de determinación del decision tree regressor \"R2\" es: 0.6161435162368512\n",
      "Raíz del error cuadrático medio en Train (RMSE): 6.762149099891606\n",
      "Raíz del error cuadrático medio en Test (RMSE): 7.15062794417746\n"
     ]
    }
   ],
   "source": [
    "from sklearn.metrics import r2_score, mean_squared_error\n",
    "\n",
    "r2 = r2_score(y_train, y_train_pred)\n",
    "print('El coeficiente de determinación del decision tree regressor \"R2\" es:', r2)\n",
    "rmse_train = mean_squared_error(y_train, y_train_pred, squared=False)\n",
    "rmse_test = mean_squared_error(y_test, y_test_pred, squared=False)\n",
    "print(f'Raíz del error cuadrático medio en Train (RMSE): {rmse_train}')\n",
    "print(f'Raíz del error cuadrático medio en Test (RMSE): {rmse_test}')"
   ]
  }
 ],
 "metadata": {
  "kernelspec": {
   "display_name": "Python 3",
   "language": "python",
   "name": "python3"
  },
  "language_info": {
   "codemirror_mode": {
    "name": "ipython",
    "version": 3
   },
   "file_extension": ".py",
   "mimetype": "text/x-python",
   "name": "python",
   "nbconvert_exporter": "python",
   "pygments_lexer": "ipython3",
   "version": "3.11.5"
  },
  "orig_nbformat": 4
 },
 "nbformat": 4,
 "nbformat_minor": 2
}
